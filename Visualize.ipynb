{
 "cells": [
  {
   "cell_type": "code",
   "execution_count": 1,
   "id": "a1b0d5e3",
   "metadata": {},
   "outputs": [
    {
     "name": "stdout",
     "output_type": "stream",
     "text": [
      "Collecting pyvis\n",
      "  Downloading pyvis-0.3.1.tar.gz (748 kB)\n",
      "Requirement already satisfied: jinja2>=2.9.6 in c:\\users\\dell\\anaconda3\\lib\\site-packages (from pyvis) (2.11.3)\n",
      "Requirement already satisfied: networkx>=1.11 in c:\\users\\dell\\anaconda3\\lib\\site-packages (from pyvis) (2.7.1)\n",
      "Requirement already satisfied: ipython>=5.3.0 in c:\\users\\dell\\anaconda3\\lib\\site-packages (from pyvis) (8.2.0)\n",
      "Collecting jsonpickle>=1.4.1\n",
      "  Downloading jsonpickle-2.2.0-py2.py3-none-any.whl (39 kB)\n",
      "Requirement already satisfied: matplotlib-inline in c:\\users\\dell\\anaconda3\\lib\\site-packages (from ipython>=5.3.0->pyvis) (0.1.2)\n",
      "Requirement already satisfied: pickleshare in c:\\users\\dell\\anaconda3\\lib\\site-packages (from ipython>=5.3.0->pyvis) (0.7.5)\n",
      "Requirement already satisfied: prompt-toolkit!=3.0.0,!=3.0.1,<3.1.0,>=2.0.0 in c:\\users\\dell\\anaconda3\\lib\\site-packages (from ipython>=5.3.0->pyvis) (3.0.20)\n",
      "Requirement already satisfied: setuptools>=18.5 in c:\\users\\dell\\anaconda3\\lib\\site-packages (from ipython>=5.3.0->pyvis) (61.2.0)\n",
      "Requirement already satisfied: jedi>=0.16 in c:\\users\\dell\\anaconda3\\lib\\site-packages (from ipython>=5.3.0->pyvis) (0.18.1)\n",
      "Requirement already satisfied: pygments>=2.4.0 in c:\\users\\dell\\anaconda3\\lib\\site-packages (from ipython>=5.3.0->pyvis) (2.11.2)\n",
      "Requirement already satisfied: backcall in c:\\users\\dell\\anaconda3\\lib\\site-packages (from ipython>=5.3.0->pyvis) (0.2.0)\n",
      "Requirement already satisfied: stack-data in c:\\users\\dell\\anaconda3\\lib\\site-packages (from ipython>=5.3.0->pyvis) (0.2.0)\n",
      "Requirement already satisfied: decorator in c:\\users\\dell\\anaconda3\\lib\\site-packages (from ipython>=5.3.0->pyvis) (4.4.2)\n",
      "Requirement already satisfied: colorama in c:\\users\\dell\\anaconda3\\lib\\site-packages (from ipython>=5.3.0->pyvis) (0.4.4)\n",
      "Requirement already satisfied: traitlets>=5 in c:\\users\\dell\\anaconda3\\lib\\site-packages (from ipython>=5.3.0->pyvis) (5.1.1)\n",
      "Requirement already satisfied: parso<0.9.0,>=0.8.0 in c:\\users\\dell\\anaconda3\\lib\\site-packages (from jedi>=0.16->ipython>=5.3.0->pyvis) (0.8.3)\n",
      "Requirement already satisfied: MarkupSafe>=0.23 in c:\\users\\dell\\anaconda3\\lib\\site-packages (from jinja2>=2.9.6->pyvis) (2.0.1)\n",
      "Requirement already satisfied: wcwidth in c:\\users\\dell\\anaconda3\\lib\\site-packages (from prompt-toolkit!=3.0.0,!=3.0.1,<3.1.0,>=2.0.0->ipython>=5.3.0->pyvis) (0.2.5)\n",
      "Requirement already satisfied: executing in c:\\users\\dell\\anaconda3\\lib\\site-packages (from stack-data->ipython>=5.3.0->pyvis) (0.8.3)\n",
      "Requirement already satisfied: pure-eval in c:\\users\\dell\\anaconda3\\lib\\site-packages (from stack-data->ipython>=5.3.0->pyvis) (0.2.2)\n",
      "Requirement already satisfied: asttokens in c:\\users\\dell\\anaconda3\\lib\\site-packages (from stack-data->ipython>=5.3.0->pyvis) (2.0.5)\n",
      "Requirement already satisfied: six in c:\\users\\dell\\anaconda3\\lib\\site-packages (from asttokens->stack-data->ipython>=5.3.0->pyvis) (1.16.0)\n",
      "Building wheels for collected packages: pyvis\n",
      "  Building wheel for pyvis (setup.py): started\n",
      "  Building wheel for pyvis (setup.py): finished with status 'done'\n",
      "  Created wheel for pyvis: filename=pyvis-0.3.1-py3-none-any.whl size=755851 sha256=faee09852166aacbcca47d64384e1dca35accc19233a4df8bba7825207614f5c\n",
      "  Stored in directory: c:\\users\\dell\\appdata\\local\\pip\\cache\\wheels\\55\\7b\\4b\\dc896cf96ad07e0dc92d30e1984ab583c0d0feec208756e2b2\n",
      "Successfully built pyvis\n",
      "Installing collected packages: jsonpickle, pyvis\n",
      "Successfully installed jsonpickle-2.2.0 pyvis-0.3.1\n"
     ]
    }
   ],
   "source": [
    "# !pip install pyvis"
   ]
  },
  {
   "cell_type": "code",
   "execution_count": 2,
   "id": "472f3f62",
   "metadata": {},
   "outputs": [],
   "source": [
    "from pyvis.network import Network\n",
    "import json\n",
    "\n",
    "file = './json_file/alcuin_letters.json'"
   ]
  },
  {
   "cell_type": "code",
   "execution_count": 19,
   "id": "c13a26e8",
   "metadata": {},
   "outputs": [],
   "source": [
    "def get_data():\n",
    "    with open (file, 'r') as json_file:\n",
    "        data = json.load(json_file)\n",
    "        return (data['alcuin_letters'])\n",
    "\n",
    "def map_data(letter_data, ep_color = '#03DAC6', ms_color='#DA03B3', edge_color='#018786'):\n",
    "    g = Network(height='1500px', width='100%', bgcolor='#222222', font_color='white')\n",
    "    for letter in letter_data:\n",
    "        ep = (letter['ep_num'])[0]\n",
    "        mss = (letter['mss'])\n",
    "        g.add_node(ep, color=ep_color)\n",
    "        for ms in mss:\n",
    "            g.add_node(ms, color=ms_color)\n",
    "            g.add_edge(ep, ms, color=edge_color)\n",
    "    g.barnes_hut()\n",
    "    g.show('letters.html')\n"
   ]
  },
  {
   "cell_type": "code",
   "execution_count": 21,
   "id": "b40c685c",
   "metadata": {},
   "outputs": [],
   "source": [
    "epp_data = get_data()\n",
    "map_data(epp_data)"
   ]
  },
  {
   "cell_type": "code",
   "execution_count": null,
   "id": "3e9a57bb",
   "metadata": {},
   "outputs": [],
   "source": []
  }
 ],
 "metadata": {
  "kernelspec": {
   "display_name": "Python 3 (ipykernel)",
   "language": "python",
   "name": "python3"
  },
  "language_info": {
   "codemirror_mode": {
    "name": "ipython",
    "version": 3
   },
   "file_extension": ".py",
   "mimetype": "text/x-python",
   "name": "python",
   "nbconvert_exporter": "python",
   "pygments_lexer": "ipython3",
   "version": "3.9.12"
  }
 },
 "nbformat": 4,
 "nbformat_minor": 5
}
